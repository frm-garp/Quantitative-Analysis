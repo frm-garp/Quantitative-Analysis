{
 "cells": [
  {
   "cell_type": "code",
   "execution_count": 1,
   "metadata": {},
   "outputs": [],
   "source": [
    "import pandas as pd\n",
    "import numpy as np\n",
    "import scipy.stats as si"
   ]
  },
  {
   "cell_type": "markdown",
   "metadata": {},
   "source": [
    "# Frequency Distribution of Two Random Variables"
   ]
  },
  {
   "cell_type": "code",
   "execution_count": 2,
   "metadata": {},
   "outputs": [],
   "source": [
    "# Number of PCs sold and Number of Printers Sold\n",
    "zero =  [6,4,2,2,2]\n",
    "one =   [6,10,4,2,2]\n",
    "two =   [4,12,20,10,2]\n",
    "three = [4,4,10,20,10]\n",
    "four =  [2,2,10,20,30]"
   ]
  },
  {
   "cell_type": "code",
   "execution_count": 3,
   "metadata": {},
   "outputs": [
    {
     "data": {
      "text/plain": [
       "[22, 32, 46, 54, 46]"
      ]
     },
     "execution_count": 3,
     "metadata": {},
     "output_type": "execute_result"
    }
   ],
   "source": [
    "total1 = []\n",
    "for i in range(0,len(zero)):\n",
    "    total1.append(zero[i]+one[i]+two[i]+three[i]+four[i])\n",
    "total1"
   ]
  },
  {
   "cell_type": "code",
   "execution_count": 4,
   "metadata": {},
   "outputs": [],
   "source": [
    "zero.append(sum(zero))\n",
    "one.append(sum(one))\n",
    "two.append(sum(two))\n",
    "three.append(sum(three))\n",
    "four.append(sum(four))\n",
    "total1.append(sum(total1))"
   ]
  },
  {
   "cell_type": "code",
   "execution_count": 5,
   "metadata": {},
   "outputs": [
    {
     "data": {
      "text/html": [
       "<div>\n",
       "<style scoped>\n",
       "    .dataframe tbody tr th:only-of-type {\n",
       "        vertical-align: middle;\n",
       "    }\n",
       "\n",
       "    .dataframe tbody tr th {\n",
       "        vertical-align: top;\n",
       "    }\n",
       "\n",
       "    .dataframe thead tr th {\n",
       "        text-align: left;\n",
       "    }\n",
       "</style>\n",
       "<table border=\"1\" class=\"dataframe\">\n",
       "  <thead>\n",
       "    <tr>\n",
       "      <th></th>\n",
       "      <th></th>\n",
       "      <th colspan=\"6\" halign=\"left\">Number of PCs Sold</th>\n",
       "    </tr>\n",
       "    <tr>\n",
       "      <th></th>\n",
       "      <th></th>\n",
       "      <th>0</th>\n",
       "      <th>1</th>\n",
       "      <th>2</th>\n",
       "      <th>3</th>\n",
       "      <th>4</th>\n",
       "      <th>total</th>\n",
       "    </tr>\n",
       "  </thead>\n",
       "  <tbody>\n",
       "    <tr>\n",
       "      <th rowspan=\"6\" valign=\"top\">Printers Sold</th>\n",
       "      <th>0</th>\n",
       "      <td>6</td>\n",
       "      <td>6</td>\n",
       "      <td>4</td>\n",
       "      <td>4</td>\n",
       "      <td>2</td>\n",
       "      <td>22</td>\n",
       "    </tr>\n",
       "    <tr>\n",
       "      <th>1</th>\n",
       "      <td>4</td>\n",
       "      <td>10</td>\n",
       "      <td>12</td>\n",
       "      <td>4</td>\n",
       "      <td>2</td>\n",
       "      <td>32</td>\n",
       "    </tr>\n",
       "    <tr>\n",
       "      <th>2</th>\n",
       "      <td>2</td>\n",
       "      <td>4</td>\n",
       "      <td>20</td>\n",
       "      <td>10</td>\n",
       "      <td>10</td>\n",
       "      <td>46</td>\n",
       "    </tr>\n",
       "    <tr>\n",
       "      <th>3</th>\n",
       "      <td>2</td>\n",
       "      <td>2</td>\n",
       "      <td>10</td>\n",
       "      <td>20</td>\n",
       "      <td>20</td>\n",
       "      <td>54</td>\n",
       "    </tr>\n",
       "    <tr>\n",
       "      <th>4</th>\n",
       "      <td>2</td>\n",
       "      <td>2</td>\n",
       "      <td>2</td>\n",
       "      <td>10</td>\n",
       "      <td>30</td>\n",
       "      <td>46</td>\n",
       "    </tr>\n",
       "    <tr>\n",
       "      <th>total</th>\n",
       "      <td>16</td>\n",
       "      <td>24</td>\n",
       "      <td>48</td>\n",
       "      <td>48</td>\n",
       "      <td>64</td>\n",
       "      <td>200</td>\n",
       "    </tr>\n",
       "  </tbody>\n",
       "</table>\n",
       "</div>"
      ],
      "text/plain": [
       "                    Number of PCs Sold                      \n",
       "                                     0   1   2   3   4 total\n",
       "Printers Sold 0                      6   6   4   4   2    22\n",
       "              1                      4  10  12   4   2    32\n",
       "              2                      2   4  20  10  10    46\n",
       "              3                      2   2  10  20  20    54\n",
       "              4                      2   2   2  10  30    46\n",
       "              total                 16  24  48  48  64   200"
      ]
     },
     "execution_count": 5,
     "metadata": {},
     "output_type": "execute_result"
    }
   ],
   "source": [
    "header1 = pd.MultiIndex.from_product([['Number of PCs Sold'],['0','1','2','3','4','total']])\n",
    "header2 = pd.MultiIndex.from_product([['Printers Sold'],['0','1','2','3','4','total']])\n",
    "df = pd.DataFrame([zero, one, two, three, four, total1], index=header1, columns=header2).T\n",
    "df"
   ]
  },
  {
   "cell_type": "code",
   "execution_count": 6,
   "metadata": {},
   "outputs": [],
   "source": [
    "a = df.iloc[5,5]"
   ]
  },
  {
   "cell_type": "markdown",
   "metadata": {},
   "source": [
    "# Corresponding BIVARIATE PROBABILITY DISTRIBUTION"
   ]
  },
  {
   "cell_type": "code",
   "execution_count": 7,
   "metadata": {},
   "outputs": [],
   "source": [
    "# Number of PCs sold and Number of Printers Sold\n",
    "zero =  [6,4,2,2,2]\n",
    "one =   [6,10,4,2,2]\n",
    "two =   [4,12,20,10,2]\n",
    "three = [4,4,10,20,10]\n",
    "four =  [2,2,10,20,30]"
   ]
  },
  {
   "cell_type": "code",
   "execution_count": 8,
   "metadata": {},
   "outputs": [],
   "source": [
    "zero1 =  list(zero/a)\n",
    "one1 =   list(one/a)\n",
    "two1 =   list(two/a)\n",
    "three1 = list(three/a)\n",
    "four1 =  list(four/a)"
   ]
  },
  {
   "cell_type": "code",
   "execution_count": 9,
   "metadata": {},
   "outputs": [
    {
     "data": {
      "text/plain": [
       "[0.11, 0.16, 0.22999999999999998, 0.27, 0.22999999999999998]"
      ]
     },
     "execution_count": 9,
     "metadata": {},
     "output_type": "execute_result"
    }
   ],
   "source": [
    "total2 = []\n",
    "for i in range(0,len(zero1)):\n",
    "    total2.append(zero1[i]+one1[i]+two1[i]+three1[i]+four1[i])\n",
    "total2"
   ]
  },
  {
   "cell_type": "code",
   "execution_count": 10,
   "metadata": {},
   "outputs": [],
   "source": [
    "zero1.append(sum(zero1))\n",
    "one1.append(sum(one1))\n",
    "two1.append(sum(two1))\n",
    "three1.append(sum(three1))\n",
    "four1.append(sum(four1))\n",
    "total2.append(sum(total2))"
   ]
  },
  {
   "cell_type": "code",
   "execution_count": 11,
   "metadata": {},
   "outputs": [
    {
     "data": {
      "text/html": [
       "<div>\n",
       "<style scoped>\n",
       "    .dataframe tbody tr th:only-of-type {\n",
       "        vertical-align: middle;\n",
       "    }\n",
       "\n",
       "    .dataframe tbody tr th {\n",
       "        vertical-align: top;\n",
       "    }\n",
       "\n",
       "    .dataframe thead tr th {\n",
       "        text-align: left;\n",
       "    }\n",
       "</style>\n",
       "<table border=\"1\" class=\"dataframe\">\n",
       "  <thead>\n",
       "    <tr>\n",
       "      <th></th>\n",
       "      <th></th>\n",
       "      <th colspan=\"6\" halign=\"left\">Number of PCs Sold</th>\n",
       "    </tr>\n",
       "    <tr>\n",
       "      <th></th>\n",
       "      <th></th>\n",
       "      <th>0</th>\n",
       "      <th>1</th>\n",
       "      <th>2</th>\n",
       "      <th>3</th>\n",
       "      <th>4</th>\n",
       "      <th>total</th>\n",
       "    </tr>\n",
       "  </thead>\n",
       "  <tbody>\n",
       "    <tr>\n",
       "      <th rowspan=\"6\" valign=\"top\">Printers Sold</th>\n",
       "      <th>0</th>\n",
       "      <td>0.03</td>\n",
       "      <td>0.03</td>\n",
       "      <td>0.02</td>\n",
       "      <td>0.02</td>\n",
       "      <td>0.01</td>\n",
       "      <td>0.11</td>\n",
       "    </tr>\n",
       "    <tr>\n",
       "      <th>1</th>\n",
       "      <td>0.02</td>\n",
       "      <td>0.05</td>\n",
       "      <td>0.06</td>\n",
       "      <td>0.02</td>\n",
       "      <td>0.01</td>\n",
       "      <td>0.16</td>\n",
       "    </tr>\n",
       "    <tr>\n",
       "      <th>2</th>\n",
       "      <td>0.01</td>\n",
       "      <td>0.02</td>\n",
       "      <td>0.10</td>\n",
       "      <td>0.05</td>\n",
       "      <td>0.05</td>\n",
       "      <td>0.23</td>\n",
       "    </tr>\n",
       "    <tr>\n",
       "      <th>3</th>\n",
       "      <td>0.01</td>\n",
       "      <td>0.01</td>\n",
       "      <td>0.05</td>\n",
       "      <td>0.10</td>\n",
       "      <td>0.10</td>\n",
       "      <td>0.27</td>\n",
       "    </tr>\n",
       "    <tr>\n",
       "      <th>4</th>\n",
       "      <td>0.01</td>\n",
       "      <td>0.01</td>\n",
       "      <td>0.01</td>\n",
       "      <td>0.05</td>\n",
       "      <td>0.15</td>\n",
       "      <td>0.23</td>\n",
       "    </tr>\n",
       "    <tr>\n",
       "      <th>total</th>\n",
       "      <td>0.08</td>\n",
       "      <td>0.12</td>\n",
       "      <td>0.24</td>\n",
       "      <td>0.24</td>\n",
       "      <td>0.32</td>\n",
       "      <td>1.00</td>\n",
       "    </tr>\n",
       "  </tbody>\n",
       "</table>\n",
       "</div>"
      ],
      "text/plain": [
       "                    Number of PCs Sold                              \n",
       "                                     0     1     2     3     4 total\n",
       "Printers Sold 0                   0.03  0.03  0.02  0.02  0.01  0.11\n",
       "              1                   0.02  0.05  0.06  0.02  0.01  0.16\n",
       "              2                   0.01  0.02  0.10  0.05  0.05  0.23\n",
       "              3                   0.01  0.01  0.05  0.10  0.10  0.27\n",
       "              4                   0.01  0.01  0.01  0.05  0.15  0.23\n",
       "              total               0.08  0.12  0.24  0.24  0.32  1.00"
      ]
     },
     "execution_count": 11,
     "metadata": {},
     "output_type": "execute_result"
    }
   ],
   "source": [
    "header11 = pd.MultiIndex.from_product([['Number of PCs Sold'],['0','1','2','3','4','total']])\n",
    "header21 = pd.MultiIndex.from_product([['Printers Sold'],['0','1','2','3','4','total']])\n",
    "df2 = pd.DataFrame([zero1, one1, two1, three1, four1, total2], index=header11, columns=header21).T\n",
    "df2"
   ]
  },
  {
   "cell_type": "markdown",
   "metadata": {},
   "source": [
    "# Probability Calculation"
   ]
  },
  {
   "cell_type": "code",
   "execution_count": 12,
   "metadata": {},
   "outputs": [
    {
     "name": "stdout",
     "output_type": "stream",
     "text": [
      "Please enter the number of printers sold (0-4): 1\n",
      "The MARGINAL (unconditional) Probability that 1 printer(s) will be sold is: 0.16\n"
     ]
    }
   ],
   "source": [
    "R = int(input(\"Please enter the number of printers sold (0-4): \"))\n",
    "print(\"The MARGINAL (unconditional) Probability that\", R, \"printer(s) will be sold is:\", df2.iloc[R,5]) "
   ]
  },
  {
   "cell_type": "code",
   "execution_count": 13,
   "metadata": {},
   "outputs": [
    {
     "name": "stdout",
     "output_type": "stream",
     "text": [
      "Please enter the number of PCs sold (0-4):: 3\n",
      "The JOINT Probability that 3 printer(s) will be sold is: 0.02\n"
     ]
    }
   ],
   "source": [
    "S = int(input(\"Please enter the number of PCs sold (0-4):: \"))\n",
    "print(\"The JOINT Probability that\", S, \"printer(s) will be sold is:\", df2.iloc[R,S]) "
   ]
  },
  {
   "cell_type": "code",
   "execution_count": 14,
   "metadata": {},
   "outputs": [
    {
     "name": "stdout",
     "output_type": "stream",
     "text": [
      "The CONDITIONAL Prob. that 3 PC(s) are sold, given 1 printers are sold, i.e., = P ( 3  PC |  1  Printer ): 0.125\n"
     ]
    }
   ],
   "source": [
    "print(\"The CONDITIONAL Prob. that\", S, \"PC(s) are sold, given\", R,\"printers are sold, i.e., = P (\",S,\" PC | \",R ,\" Printer ):\", (df2.iloc[R,S])/(df2.iloc[R,5]))"
   ]
  }
 ],
 "metadata": {
  "kernelspec": {
   "display_name": "Python 3",
   "language": "python",
   "name": "python3"
  },
  "language_info": {
   "codemirror_mode": {
    "name": "ipython",
    "version": 3
   },
   "file_extension": ".py",
   "mimetype": "text/x-python",
   "name": "python",
   "nbconvert_exporter": "python",
   "pygments_lexer": "ipython3",
   "version": "3.7.6"
  }
 },
 "nbformat": 4,
 "nbformat_minor": 4
}
